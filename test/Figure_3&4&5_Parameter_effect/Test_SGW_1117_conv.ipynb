{
 "cells": [
  {
   "cell_type": "code",
   "execution_count": 1,
   "id": "8ad78ba2-8b65-4336-8102-c3f3b3ad7bee",
   "metadata": {
    "tags": []
   },
   "outputs": [
    {
     "data": {
      "image/png": "[encoded data removed]",
      "text/plain": [
       "<Figure size 600x600 with 1 Axes>"
      ]
     },
     "metadata": {},
     "output_type": "display_data"
    },
    {
     "data": {
      "text/plain": [
       "'sGW_objective_corrected_plot.png'"
      ]
     },
     "execution_count": 1,
     "metadata": {},
     "output_type": "execute_result"
    }
   ],
   "source": [
    "# Let's start by loading the data from the .txt file to understand its structure and then proceed to plot it.\n",
    "import pandas as pd\n",
    "import matplotlib.pyplot as plt\n",
    "import numpy as np\n",
    "\n",
    "# Load the data from the txt file\n",
    "file_path = 'conv.txt'\n",
    "data = pd.read_csv(file_path, delimiter=\"\\t\", header=None)\n",
    "\n",
    "# Display the first few rows of the dataframe to understand its structure\n",
    "data.head()\n",
    "\n",
    "# Adjust the parsing logic to remove any potential non-numeric trailing characters before conversion to float\n",
    "\n",
    "# Reinitialize an empty dictionary to hold the data\n",
    "parsed_data = {}\n",
    "\n",
    "# Reset variables to keep track of the current eta and its corresponding values\n",
    "current_eta = None\n",
    "values = []\n",
    "\n",
    "# Function to clean and convert the string to float\n",
    "def clean_and_convert(value):\n",
    "    # Remove any commas and brackets, then strip whitespace\n",
    "    cleaned_value = value.replace(',', '').replace('[', '').replace(']', '').strip()\n",
    "    # Convert to float\n",
    "    return float(cleaned_value)\n",
    "\n",
    "# Iterate over each row in the data\n",
    "for index, row in data.iterrows():\n",
    "    # If the row contains 'eta=', it's a label indicating a new series of values\n",
    "    if 'eta=' in row[0]:\n",
    "        # If we have a current_eta, it means we've collected a series of values for it\n",
    "        if current_eta is not None:\n",
    "            # Store the collected values for this eta\n",
    "            parsed_data[current_eta] = np.array(values)\n",
    "        # Reset the values list and update the current_eta\n",
    "        values = []\n",
    "        current_eta = row[0].split('=')[1]  # Get the eta value after '='\n",
    "    else:\n",
    "        # Otherwise, it's a value for the current eta; clean, convert and append to values\n",
    "        values.append(clean_and_convert(row[0]))\n",
    "\n",
    "# Don't forget to add the last set of values after the loop is done\n",
    "if current_eta is not None:\n",
    "    parsed_data[current_eta] = np.array(values)\n",
    "\n",
    "# Now we'll create a DataFrame with appropriate column names\n",
    "df = pd.DataFrame(parsed_data)\n",
    "\n",
    "# Let's check the DataFrame to make sure it's organized correctly\n",
    "df.head()\n",
    "\n",
    "# Define the eta values to plot, this time with 1e-6 instead of 1.1e-6\n",
    "eta_values_corrected = ['1', '1e-2', '1e-4', '1e-6']  # Corrected value\n",
    "colors_corrected = ['red', 'blue', 'yellow', 'green']\n",
    "\n",
    "# Start a new figure with the requested size\n",
    "plt.figure(figsize=(6, 6))\n",
    "\n",
    "# Plot the data for the corrected eta values with the chosen colors\n",
    "for eta, color in zip(eta_values_corrected, colors_corrected):\n",
    "    # Check if the eta value needs correction in the label\n",
    "    label_eta = eta if eta != '1e-6' else '1.1e-6'\n",
    "    plt.plot(df[label_eta], label=f'η = {eta}', alpha=0.7, color=color)\n",
    "\n",
    "# Set the plot title and labels\n",
    "plt.title('sGW Objective with γ = 10')\n",
    "plt.xlabel('Iteration')\n",
    "plt.ylabel('sGW Objective')\n",
    "\n",
    "# Add a legend to the plot\n",
    "plt.legend()\n",
    "\n",
    "# Save the corrected plot as a .png file\n",
    "save_path_corrected = 'sGW_objective_corrected_plot.png'\n",
    "plt.savefig(save_path_corrected)\n",
    "\n",
    "# Display the plot before closing the figure\n",
    "plt.show()\n",
    "\n",
    "# Return the path to the saved image file\n",
    "save_path_corrected\n"
   ]
  },
  {
   "cell_type": "code",
   "execution_count": null,
   "id": "59fdd58a-5bd0-495c-86f1-2d72b1f9717e",
   "metadata": {},
   "outputs": [],
   "source": []
  },
  {
   "cell_type": "code",
   "execution_count": null,
   "id": "52a653ac-0456-473f-bc4c-ec0f4449735f",
   "metadata": {},
   "outputs": [],
   "source": []
  },
  {
   "cell_type": "code",
   "execution_count": null,
   "id": "9c5b68f4-7774-4267-a1c3-6fd9bae76151",
   "metadata": {},
   "outputs": [],
   "source": []
  },
  {
   "cell_type": "code",
   "execution_count": null,
   "id": "abfccb49-58cd-4d25-a2ce-e9b2e3cc9bc8",
   "metadata": {},
   "outputs": [],
   "source": []
  },
  {
   "cell_type": "code",
   "execution_count": null,
   "id": "e5cafd1c-d0a8-48fb-9195-a00183539364",
   "metadata": {},
   "outputs": [],
   "source": []
  },
  {
   "cell_type": "code",
   "execution_count": null,
   "id": "a4877fab-c673-463e-b68f-5ff70af99a72",
   "metadata": {},
   "outputs": [],
   "source": []
  },
  {
   "cell_type": "code",
   "execution_count": null,
   "id": "f5fc6ffc-888b-4702-bdc8-73244edbc5ca",
   "metadata": {},
   "outputs": [],
   "source": []
  },
  {
   "cell_type": "code",
   "execution_count": null,
   "id": "187e44a8-e0e6-404b-8469-3790150f0a17",
   "metadata": {},
   "outputs": [],
   "source": []
  },
  {
   "cell_type": "code",
   "execution_count": null,
   "id": "65c065b3-1c34-4d19-8c51-1f5e96ad2ac2",
   "metadata": {},
   "outputs": [],
   "source": []
  },
  {
   "cell_type": "code",
   "execution_count": null,
   "id": "566116b4-6ca4-462c-a801-5437f2ede32a",
   "metadata": {},
   "outputs": [],
   "source": []
  },
  {
   "cell_type": "code",
   "execution_count": null,
   "id": "57706d93-7593-4051-b573-db67ad633c5d",
   "metadata": {},
   "outputs": [],
   "source": []
  },
  {
   "cell_type": "code",
   "execution_count": null,
   "id": "7e9b28a2-fcfa-4871-9413-9236b8d67a5e",
   "metadata": {},
   "outputs": [],
   "source": []
  },
  {
   "cell_type": "code",
   "execution_count": null,
   "id": "a98d2889-d85c-446e-af44-c228bc5275ab",
   "metadata": {},
   "outputs": [],
   "source": []
  },
  {
   "cell_type": "code",
   "execution_count": null,
   "id": "34c07469-7c70-45ad-b9a7-26703c53880b",
   "metadata": {},
   "outputs": [],
   "source": []
  },
  {
   "cell_type": "code",
   "execution_count": null,
   "id": "a22a849f-b705-44da-af1e-dbc41bfea6e9",
   "metadata": {},
   "outputs": [],
   "source": []
  },
  {
   "cell_type": "code",
   "execution_count": null,
   "id": "4b0ce994-1769-476a-bd81-835678b301eb",
   "metadata": {},
   "outputs": [],
   "source": []
  },
  {
   "cell_type": "code",
   "execution_count": null,
   "id": "55ec6508-a388-45fc-ae14-5ada5e06c980",
   "metadata": {},
   "outputs": [],
   "source": []
  },
  {
   "cell_type": "code",
   "execution_count": null,
   "id": "dd263a31-c23d-4d9f-8764-07e2b327df0a",
   "metadata": {},
   "outputs": [],
   "source": []
  },
  {
   "cell_type": "code",
   "execution_count": null,
   "id": "c6df6258-4dd7-4a06-bae1-254311a81ebd",
   "metadata": {},
   "outputs": [],
   "source": []
  },
  {
   "cell_type": "code",
   "execution_count": null,
   "id": "29d2c211-c888-4628-8252-940328a5036a",
   "metadata": {},
   "outputs": [],
   "source": []
  }
 ],
 "metadata": {
  "kernelspec": {
   "display_name": "Python 3 (ipykernel)",
   "language": "python",
   "name": "python3"
  },
  "language_info": {
   "codemirror_mode": {
    "name": "ipython",
    "version": 3
   },
   "file_extension": ".py",
   "mimetype": "text/x-python",
   "name": "python",
   "nbconvert_exporter": "python",
   "pygments_lexer": "ipython3",
   "version": "3.10.9"
  }
 },
 "nbformat": 4,
 "nbformat_minor": 5
}
