{
 "cells": [
  {
   "cell_type": "code",
   "execution_count": 1,
   "id": "03f0c915-dd81-48f0-a4dc-df81e6716268",
   "metadata": {
    "tags": []
   },
   "outputs": [],
   "source": [
    "#plot conv speed of octopus example rho=1.5\n",
    "# Compute the Gromov-Wasserstein distance\n",
    "#P = sgw.supervised_gromov_wasserstein(geo1, geo2, nitermax=20, threshold=1.5)\n",
    "import itertools\n",
    "import networkx as nx\n",
    "import numpy as np\n",
    "from scipy.spatial.distance import cdist\n",
    "import matplotlib.pyplot as plt\n",
    "import random"
   ]
  },
  {
   "cell_type": "code",
   "execution_count": 2,
   "id": "641c8b01-3373-4687-8421-56a9a6239aee",
   "metadata": {},
   "outputs": [
    {
     "name": "stdout",
     "output_type": "stream",
     "text": [
      "144 127\n"
     ]
    }
   ],
   "source": [
    "C1 = np.loadtxt('geodesic_C1_1203.csv', delimiter=',')\n",
    "#geodesic_C2_1122 is for more downsampled data to see the head\n",
    "C2 = np.loadtxt('geodesic_C2_1203.csv', delimiter=',')\n",
    "\n",
    "n = C1.shape[0]\n",
    "m = C2.shape[0]\n",
    "threshold = 2\n",
    "random_state=1\n",
    "np.random.seed(random_state)\n",
    "random.seed(random_state)\n",
    "print(n,m)\n",
    "\n",
    "# Build graph\n",
    "G = nx.Graph()\n",
    "for i in range(n):\n",
    "    for j in range(m):\n",
    "        vertex = (i + 1, j + 1)\n",
    "        G.add_node(vertex)\n",
    "\n",
    "tensor4 = np.zeros((n, m, n, m))\n",
    "C1_exp = C1[:, None, :, None]\n",
    "C2_exp = C2[None, :, None, :]\n",
    "tensor4 = (C1_exp - C2_exp) ** 2\n",
    "\n",
    "positions = np.where(tensor4 > threshold ** 2)\n",
    "vertex_positions = positions[0] + 1, positions[1] + 1, positions[2] + 1, positions[3] + 1\n",
    "\n",
    "for i in range(len(positions[0])):\n",
    "    first_elements = [arr[i] for arr in vertex_positions]\n",
    "    vertex1 = (first_elements[0], first_elements[1])\n",
    "    vertex2 = (first_elements[2], first_elements[3])\n",
    "    G.add_edge(vertex1, vertex2)"
   ]
  },
  {
   "cell_type": "code",
   "execution_count": 3,
   "id": "2c47d8d9-a003-4c92-b1aa-9057b6bb0b34",
   "metadata": {},
   "outputs": [
    {
     "name": "stdout",
     "output_type": "stream",
     "text": [
      "No more edges in the graph.\n"
     ]
    }
   ],
   "source": [
    "def vertex_with_most_edges(graph):\n",
    "    degrees = dict(graph.degree())     \n",
    "    max_degree = max(degrees.values())\n",
    "    max_degree_vertices = [vertex for vertex, degree in degrees.items() if degree == max_degree]\n",
    "\n",
    "    return max_degree_vertices, max_degree\n",
    "\n",
    "tuples_set = set()\n",
    "B = G.copy()\n",
    "\n",
    "while B.edges:\n",
    "    vertices, degree = vertex_with_most_edges(B)\n",
    "    vertex = random.choice(vertices)\n",
    "    B.remove_node(vertex)\n",
    "    tuples_set.add(vertex)\n",
    "\n",
    "if not B.edges:\n",
    "    print(\"No more edges in the graph.\") "
   ]
  },
  {
   "cell_type": "code",
   "execution_count": 4,
   "id": "5580b77b-bb50-4aea-9059-8aba520bbdb4",
   "metadata": {},
   "outputs": [
    {
     "name": "stdout",
     "output_type": "stream",
     "text": [
      "4.16938103169375\n"
     ]
    }
   ],
   "source": [
    "gamma = 10\n",
    "eps = 1e-2\n",
    "eta = 1\n",
    "verbose = False\n",
    "nitermax = 20\n",
    "random_state=1\n",
    "np.random.seed(random_state)\n",
    "\n",
    "def perform_sOT_log(G, a, b, eps, options):\n",
    "\n",
    "    niter = options['niter_sOT']\n",
    "    f     = options['f_init']\n",
    "    g     = options['g_init']\n",
    "    M     = options['penalty']\n",
    "\n",
    "    # Err = np.array([[1, 1]])\n",
    "\n",
    "    for q in range(niter):   \n",
    "        f = np.minimum(eps * np.log(a) - eps * np.log(np.sum(np.exp((f[:, None] + g[None, :]  - G) / eps), axis=1)+ 10**-20) + f, M)\n",
    "        g = np.minimum(eps * np.log(b) - eps * np.log(np.sum(np.exp((f[:, None] + g[None, :]  - G) / eps), axis=0)+ 10**-20) + g, M)\n",
    "\n",
    "    P = np.exp((f[:, None] + g[None, :] - G) / eps)\n",
    "    \n",
    "    return P, f, g\n",
    "\n",
    "\n",
    "a = np.array([1 / n] * n, dtype=float)\n",
    "aa = a + 1e-1 * np.random.rand(n)\n",
    "b = np.array([1 / m] * m, dtype=float)\n",
    "bb = b + 1e-1 * np.random.rand(m)\n",
    "\n",
    "aa = aa / np.linalg.norm((aa), ord=1)\n",
    "bb = bb / np.linalg.norm((bb), ord=1)\n",
    "    \n",
    "#real convergence value\n",
    "#eta = eps/(np.sqrt(2)* n * m * min(np.max(a), np.max(b)) * max(np.max(C1)**2,np.max(C2)**2) + eps)\n",
    "    \n",
    "    \n",
    "P = np.outer(aa, bb) \n",
    "f = np.zeros(n)\n",
    "g = np.zeros(m)\n",
    "p_values = range(nitermax)\n",
    "sgw_values = []\n",
    "\n",
    "print(max(np.max(C1)**2,np.max(C2)**2))\n",
    "\n",
    "for p in p_values:\n",
    "        \n",
    "    D = np.zeros((n, m)) \n",
    "    P_reshaped = P.reshape(1, 1, n, m) \n",
    "    D = np.sum(tensor4 * P_reshaped, axis=(-2, -1))\n",
    "    sgw = np.sum(D * P)+gamma*(np.sum(a)+np.sum(b)-2*np.sum(P))+eps*np.sum(P * (np.log(P+10**(-20)*np.ones((n,m)))-np.ones((n,m))))\n",
    "    sgw_values.append(sgw)\n",
    "    \n",
    "    D = 2*eta*D+eps*(eta-1)*np.log(P+10**(-20)*np.ones((n,m)))\n",
    "                    \n",
    "    for s, t in tuples_set:\n",
    "        D[s-1, t-1] = np.inf\n",
    "        \n",
    "    options = {\n",
    "    'niter_sOT': 10**5,\n",
    "    'f_init': np.zeros(n),\n",
    "    'g_init': np.zeros(m),\n",
    "    'penalty': eta*gamma\n",
    "    }\n",
    "        \n",
    "    P,f,g = perform_sOT_log(D, a, b, eps, options)"
   ]
  },
  {
   "cell_type": "code",
   "execution_count": 5,
   "id": "80a54386-3831-4ecb-bd8b-cfd9642a1d45",
   "metadata": {
    "tags": []
   },
   "outputs": [
    {
     "data": {
      "text/plain": [
       "[0.3108921243826232,\n",
       " 0.3330059548137708,\n",
       " 0.3041401942129951,\n",
       " 0.2678700794563322,\n",
       " 0.24985387699350398,\n",
       " 0.24503060265269277,\n",
       " 0.24211912591098061,\n",
       " 0.24200431844560755,\n",
       " 0.24194289325529128,\n",
       " 0.24186328448877592,\n",
       " 0.2416951365247953,\n",
       " 0.24131804747391666,\n",
       " 0.2411275450733401,\n",
       " 0.24109056917611738,\n",
       " 0.24108376567543088,\n",
       " 0.24108205911475994,\n",
       " 0.2410812609428265,\n",
       " 0.24108071742436832,\n",
       " 0.24108030180226253,\n",
       " 0.24107997428829686]"
      ]
     },
     "execution_count": 5,
     "metadata": {},
     "output_type": "execute_result"
    }
   ],
   "source": [
    "np.savetxt('sgw_rho_2.txt', sgw_values)\n",
    "sgw_values"
   ]
  },
  {
   "cell_type": "code",
   "execution_count": 10,
   "id": "fe7eb79f-af05-4e65-838b-4342b839a2aa",
   "metadata": {
    "tags": []
   },
   "outputs": [],
   "source": [
    "import matplotlib.pyplot as plt\n",
    "\n",
    "# Provided data points\n",
    "y_values = [\n",
    "#0.3108921243826232-0.24107997428829686,\n",
    "0.3330059548137708-0.24107997428829686,\n",
    "0.3041401942129951-0.24107997428829686,\n",
    "0.2678700794563322-0.24107997428829686,\n",
    "0.24985387699350398-0.24107997428829686,\n",
    "0.24503060265269277-0.24107997428829686,\n",
    "0.24211912591098061-0.24107997428829686,\n",
    "0.24200431844560755-0.24107997428829686,\n",
    "0.24194289325529128-0.24107997428829686,\n",
    "0.24186328448877592-0.24107997428829686,\n",
    "0.2416951365247953-0.24107997428829686,\n",
    "0.24131804747391666-0.24107997428829686,\n",
    "0.2411275450733401-0.24107997428829686,\n",
    "0.24109056917611738-0.24107997428829686,\n",
    "0.24108376567543088-0.24107997428829686,\n",
    "0.24108205911475994-0.24107997428829686,\n",
    "0.2410812609428265-0.24107997428829686,\n",
    "0.24108071742436832-0.24107997428829686,\n",
    "0.24108030180226253-0.24107997428829686,\n",
    "0.24107997428829686-0.24107997428829686\n",
    "]\n",
    "\n",
    "# Generating x values as indices of the list\n",
    "x_values = list(range(len(y_values)))"
   ]
  },
  {
   "cell_type": "code",
   "execution_count": 11,
   "id": "05032cbe-d7ca-4e2d-9bd0-4d967bdfabb7",
   "metadata": {
    "tags": []
   },
   "outputs": [
    {
     "data": {
      "image/png": "[encoded data removed]",
      "text/plain": [
       "<Figure size 1000x600 with 1 Axes>"
      ]
     },
     "metadata": {},
     "output_type": "display_data"
    }
   ],
   "source": [
    "plt.figure(figsize=(10, 6))\n",
    "plt.plot(x_values, y_values, marker='o', linestyle='-', color='b')\n",
    "#plt.title('Data Set Plot')\n",
    "plt.xlabel('Iteration k')\n",
    "plt.ylabel('sGW(P_k)-sGW(*)')\n",
    "plt.grid(True)\n",
    "plt.xticks(x_values)  # Ensure x values are integers\n",
    "plt.savefig('oc_rho_2_sgw.png', dpi=300, bbox_inches='tight')\n"
   ]
  },
  {
   "cell_type": "code",
   "execution_count": null,
   "id": "45a3849f-c56f-4e3c-abb2-07c6ced94440",
   "metadata": {},
   "outputs": [],
   "source": []
  },
  {
   "cell_type": "code",
   "execution_count": null,
   "id": "c153c8de-4f13-4633-9ac4-bbce0fc74ec9",
   "metadata": {},
   "outputs": [],
   "source": []
  }
 ],
 "metadata": {
  "kernelspec": {
   "display_name": "Python 3 (ipykernel)",
   "language": "python",
   "name": "python3"
  },
  "language_info": {
   "codemirror_mode": {
    "name": "ipython",
    "version": 3
   },
   "file_extension": ".py",
   "mimetype": "text/x-python",
   "name": "python",
   "nbconvert_exporter": "python",
   "pygments_lexer": "ipython3",
   "version": "3.10.9"
  }
 },
 "nbformat": 4,
 "nbformat_minor": 5
}
