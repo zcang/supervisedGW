{
 "cells": [
  {
   "cell_type": "code",
   "execution_count": 1,
   "id": "3614f23a-86be-4f69-8f6d-5d9a31f5b924",
   "metadata": {},
   "outputs": [],
   "source": [
    "import ot\n",
    "import sgw\n",
    "import scanpy as sc\n",
    "import pandas as pd\n",
    "import numpy as np\n",
    "import networkx as nx\n",
    "from geosketch import gs\n",
    "import matplotlib.pyplot as plt"
   ]
  },
  {
   "cell_type": "code",
   "execution_count": 2,
   "id": "fc78981e-dd15-4965-bd3f-53b6aa6d2f26",
   "metadata": {},
   "outputs": [],
   "source": [
    "def plot_mapping(P,X_1,X_2, thresh=None, linewidth=1):\n",
    "\n",
    "    fig = plt.figure()\n",
    "    ax = plt.axes(projection='3d')\n",
    "    \n",
    "    ax.scatter3D(X_1[:,0], X_1[:,1], 0, c='tab:blue')\n",
    "    ax.scatter3D(X_2[:,0], X_2[:,1], 1, c='tab:red')\n",
    "    \n",
    "    for i in range(P.shape[1]):\n",
    "        if P[:,i].sum() < thresh: continue\n",
    "        j = np.argmax(P[:,i])\n",
    "        ax.plot3D([X_1[j,0], X_2[i,0]],[X_1[j,1], X_2[i,1]],[0,1],c='gray', linewidth=linewidth)\n",
    "    ax.xaxis.set_pane_color((1.0, 1.0, 1.0, 0.0))\n",
    "    ax.yaxis.set_pane_color((1.0, 1.0, 1.0, 0.0))\n",
    "    ax.zaxis.set_pane_color((1.0, 1.0, 1.0, 0.0))\n",
    "    ax.set_zticks([0, 1])"
   ]
  },
  {
   "cell_type": "code",
   "execution_count": 3,
   "id": "8c8730d4-c0dd-40e0-9d04-4af12f2f5a9b",
   "metadata": {},
   "outputs": [],
   "source": [
    "import plotly \n",
    "plotly_colors = plotly.colors.qualitative.Plotly"
   ]
  },
  {
   "cell_type": "markdown",
   "id": "79a02551-cd50-476e-8069-33e49695f563",
   "metadata": {},
   "source": [
    "## **subset**"
   ]
  },
  {
   "cell_type": "code",
   "execution_count": 4,
   "id": "e2429a57-2bf7-485e-87fa-ba2012ca27ad",
   "metadata": {},
   "outputs": [],
   "source": [
    "dataname = './data/dyntoy_bifurcating_3.h5ad'"
   ]
  },
  {
   "cell_type": "code",
   "execution_count": 5,
   "id": "0f8b9f8d-a2e1-4740-bcff-d65c5b25611f",
   "metadata": {},
   "outputs": [
    {
     "name": "stdout",
     "output_type": "stream",
     "text": [
      "AnnData object with n_obs × n_vars = 359 × 5460\n",
      "    uns: 'milestone_network'\n",
      "    obsm: 'milestone_percentages'\n"
     ]
    }
   ],
   "source": [
    "adata = sc.read_h5ad(dataname)\n",
    "print(adata)"
   ]
  },
  {
   "cell_type": "code",
   "execution_count": 6,
   "id": "158ec150-0d8a-42db-8b78-7a73d2f18792",
   "metadata": {},
   "outputs": [],
   "source": [
    "ms_names = np.array(adata.obsm['milestone_percentages'].columns.values, str)\n",
    "adata.obs['milestones'] = pd.Series(list(ms_names[np.argmax(adata.obsm['milestone_percentages'],axis=1)]), dtype=\"category\").values"
   ]
  },
  {
   "cell_type": "code",
   "execution_count": null,
   "id": "2b08396c-f707-4792-9906-0b9eeba45324",
   "metadata": {},
   "outputs": [
    {
     "name": "stderr",
     "output_type": "stream",
     "text": [
      "/Users/salovjade/anaconda3/lib/python3.10/site-packages/umap/distances.py:1063: NumbaDeprecationWarning: \u001b[1mThe 'nopython' keyword argument was not supplied to the 'numba.jit' decorator. The implicit default value for this argument is currently False, but it will be changed to True in Numba 0.59.0. See https://numba.readthedocs.io/en/stable/reference/deprecation.html#deprecation-of-object-mode-fall-back-behaviour-when-using-jit for details.\u001b[0m\n",
      "  @numba.jit()\n",
      "/Users/salovjade/anaconda3/lib/python3.10/site-packages/umap/distances.py:1071: NumbaDeprecationWarning: \u001b[1mThe 'nopython' keyword argument was not supplied to the 'numba.jit' decorator. The implicit default value for this argument is currently False, but it will be changed to True in Numba 0.59.0. See https://numba.readthedocs.io/en/stable/reference/deprecation.html#deprecation-of-object-mode-fall-back-behaviour-when-using-jit for details.\u001b[0m\n",
      "  @numba.jit()\n",
      "/Users/salovjade/anaconda3/lib/python3.10/site-packages/umap/distances.py:1086: NumbaDeprecationWarning: \u001b[1mThe 'nopython' keyword argument was not supplied to the 'numba.jit' decorator. The implicit default value for this argument is currently False, but it will be changed to True in Numba 0.59.0. See https://numba.readthedocs.io/en/stable/reference/deprecation.html#deprecation-of-object-mode-fall-back-behaviour-when-using-jit for details.\u001b[0m\n",
      "  @numba.jit()\n",
      "/Users/salovjade/anaconda3/lib/python3.10/site-packages/tqdm/auto.py:21: TqdmWarning: IProgress not found. Please update jupyter and ipywidgets. See https://ipywidgets.readthedocs.io/en/stable/user_install.html\n",
      "  from .autonotebook import tqdm as notebook_tqdm\n",
      "/Users/salovjade/anaconda3/lib/python3.10/site-packages/umap/umap_.py:660: NumbaDeprecationWarning: \u001b[1mThe 'nopython' keyword argument was not supplied to the 'numba.jit' decorator. The implicit default value for this argument is currently False, but it will be changed to True in Numba 0.59.0. See https://numba.readthedocs.io/en/stable/reference/deprecation.html#deprecation-of-object-mode-fall-back-behaviour-when-using-jit for details.\u001b[0m\n",
      "  @numba.jit()\n",
      "OMP: Info #276: omp_set_nested routine deprecated, please use omp_set_max_active_levels instead.\n"
     ]
    }
   ],
   "source": [
    "n_pcs = 10\n",
    "sc.tl.pca(adata)\n",
    "sc.pp.neighbors(adata, n_neighbors=5, n_pcs=n_pcs)\n",
    "sc.tl.tsne(adata, n_pcs=n_pcs)\n",
    "X_tsne = adata.obsm['X_tsne']\n",
    "milestones = np.sort(list(set(adata.obs['milestones'])))\n",
    "for i in range(len(milestones)):\n",
    "    idx = np.where(adata.obs['milestones']==milestones[i])[0]\n",
    "    plt.scatter(X_tsne[idx,0], X_tsne[idx,1], c=plotly_colors[i], label=milestones[i])\n",
    "plt.legend(loc=[1.01,0])\n",
    "plt.axis('off')\n",
    "plt.axis('equal')\n",
    "plt.tight_layout()\n",
    "plt.savefig(\"./figures/scatter_dataset.pdf\")"
   ]
  },
  {
   "cell_type": "code",
   "execution_count": null,
   "id": "8f78845a-c0bf-4f58-a322-936bfcf549b7",
   "metadata": {},
   "outputs": [],
   "source": [
    "A = adata.obsp['distances']\n",
    "G = nx.from_numpy_array(A)\n",
    "ncell = A.shape[0]"
   ]
  },
  {
   "cell_type": "code",
   "execution_count": null,
   "id": "01fbc75b-dacd-4a12-8d8f-b282643ee549",
   "metadata": {},
   "outputs": [],
   "source": [
    "p = dict(nx.shortest_path_length(G, weight='weight'))"
   ]
  },
  {
   "cell_type": "code",
   "execution_count": null,
   "id": "1791324b-c491-4174-9be6-4a87b4b4536b",
   "metadata": {},
   "outputs": [],
   "source": [
    "D = np.array([[p[i][j] for i in range(ncell)] for j in range(ncell)])"
   ]
  },
  {
   "cell_type": "code",
   "execution_count": null,
   "id": "a07bd040-c8e8-4e66-b925-fe3c2a8433e3",
   "metadata": {},
   "outputs": [],
   "source": [
    "adata.obsp['geodesics'] = D"
   ]
  },
  {
   "cell_type": "code",
   "execution_count": null,
   "id": "8d0b1b76-7140-4485-a200-1e28f6e4f892",
   "metadata": {},
   "outputs": [],
   "source": [
    "X_pca = adata.obsm['X_pca'][:,:n_pcs]\n",
    "# downsample_index = sgw.downsample_data(X_pca, gs_N=50, random_state=547, method='geosketch')\n",
    "downsample_index = sgw.downsample_data(X_pca[:,:2], random_state=547, method='mapper')\n",
    "print(len(downsample_index))"
   ]
  },
  {
   "cell_type": "code",
   "execution_count": null,
   "id": "15365892-f934-47b8-9d8f-b8b9be7d7d4b",
   "metadata": {},
   "outputs": [],
   "source": [
    "adata_sub = adata[downsample_index,:]"
   ]
  },
  {
   "cell_type": "code",
   "execution_count": null,
   "id": "34b0fb22-485f-4b47-bd01-853013ffb51f",
   "metadata": {},
   "outputs": [],
   "source": [
    "plt.scatter(adata.obsm['X_tsne'][:,0], adata.obsm['X_tsne'][:,1], label='full dataset', c='lightgrey')\n",
    "plt.scatter(adata_sub.obsm['X_tsne'][:,0], adata_sub.obsm['X_tsne'][:,1], label='downsampled dataset', s=30, c='dimgrey')\n",
    "plt.legend(loc=[1.01,0])\n",
    "plt.axis('off')\n",
    "plt.axis('equal')\n",
    "plt.tight_layout()\n",
    "plt.savefig(\"./figures/scatter_mapper.pdf\")"
   ]
  },
  {
   "cell_type": "code",
   "execution_count": null,
   "id": "356797ca-b912-47f2-8efc-445215f6337f",
   "metadata": {},
   "outputs": [],
   "source": [
    "adata_sub_1 = adata_sub[adata_sub.obs['milestones'].isin(['M1','M2','M3','M4']),:]\n",
    "adata_sub_2 = adata_sub[adata_sub.obs['milestones'].isin(['M3']),:]\n",
    "adata_1 = adata[adata.obs['milestones'].isin(['M1','M2','M3','M4']),:]\n",
    "adata_2 = adata[adata.obs['milestones'].isin(['M3']),:]"
   ]
  },
  {
   "cell_type": "code",
   "execution_count": null,
   "id": "7dcc7b32-5eb9-4ee7-ac7a-952c9137c7bf",
   "metadata": {},
   "outputs": [],
   "source": [
    "plt.scatter(adata_sub_1.obsm['X_tsne'][:,0], adata_sub_1.obsm['X_tsne'][:,1], label='Dataset 1', c='tab:blue', s=90)\n",
    "plt.scatter(adata_sub_2.obsm['X_tsne'][:,0], adata_sub_2.obsm['X_tsne'][:,1], label='Dataset 2', c='tab:red', s=40)\n",
    "plt.legend(loc=[1.01,0])\n",
    "plt.axis('off')\n",
    "plt.axis('equal')\n",
    "plt.tight_layout()\n",
    "plt.savefig(\"./figures/scatter_downsample_twodatasets.pdf\")"
   ]
  },
  {
   "cell_type": "code",
   "execution_count": null,
   "id": "e6f3d429-c44f-4126-b8eb-5fce2cf99b9f",
   "metadata": {},
   "outputs": [],
   "source": [
    "D_1 = adata_sub_1.obsp['geodesics']\n",
    "D_2 = adata_sub_2.obsp['geodesics']"
   ]
  },
  {
   "cell_type": "code",
   "execution_count": null,
   "id": "a570a7bf-86f9-4fb7-a55e-569ae45050d7",
   "metadata": {},
   "outputs": [],
   "source": [
    "P = sgw.supervised_gromov_wasserstein(D_1, D_2, nitermax=20, threshold=10)"
   ]
  },
  {
   "cell_type": "code",
   "execution_count": null,
   "id": "fbb05dea-82ea-492b-8473-b06420ffed14",
   "metadata": {},
   "outputs": [],
   "source": [
    "plot_mapping(P, adata_sub_1.obsm['X_tsne'], adata_sub_2.obsm['X_tsne'], thresh=0.01/adata_sub_2.obsm['X_tsne'].shape[0])\n",
    "plt.savefig('./figures/coupling_subset_downsample.pdf')"
   ]
  },
  {
   "cell_type": "code",
   "execution_count": null,
   "id": "2a93187f-0bfe-4a2a-aedd-6d195a3531c1",
   "metadata": {},
   "outputs": [],
   "source": [
    "DD1 = adata_1.obsp['geodesics'][:,[np.where(adata_1.obs_names==adata_sub_1.obs_names[i])[0][0] for i in range(adata_sub_1.shape[0])]]\n",
    "DD2 = adata_2.obsp['geodesics'][:,[np.where(adata_2.obs_names==adata_sub_2.obs_names[i])[0][0] for i in range(adata_sub_2.shape[0])]]"
   ]
  },
  {
   "cell_type": "code",
   "execution_count": null,
   "id": "434535ac-4af3-416a-bfa2-5caadeb7d4b3",
   "metadata": {},
   "outputs": [],
   "source": [
    "P_full = sgw.recover_full_coupling(P,DD1,DD2,delta=0.45, thresh=10, eps=0.01, nitermax=1e4)"
   ]
  },
  {
   "cell_type": "code",
   "execution_count": null,
   "id": "0405fa4d-61ee-4367-b60d-36c669a01049",
   "metadata": {},
   "outputs": [],
   "source": [
    "plot_mapping(P_full.toarray(),adata_1.obsm['X_tsne'], adata_2.obsm['X_tsne'], thresh=0.00000001, linewidth=0.5)\n",
    "plt.savefig('./figures/coupling_subset_full.pdf')"
   ]
  },
  {
   "cell_type": "markdown",
   "id": "14341f29-db93-46f8-a8da-749b69893be3",
   "metadata": {},
   "source": [
    "## **partial overlap**"
   ]
  },
  {
   "cell_type": "code",
   "execution_count": null,
   "id": "b053b37f-6cfe-4b34-9b97-a8fd62dd638d",
   "metadata": {},
   "outputs": [],
   "source": [
    "dataname = './data/dyntoy_bifurcating_3.h5ad'"
   ]
  },
  {
   "cell_type": "code",
   "execution_count": null,
   "id": "92148335-b68f-4bbd-9f65-dbdb6bf96791",
   "metadata": {},
   "outputs": [],
   "source": [
    "adata = sc.read_h5ad(dataname)\n",
    "print(adata)"
   ]
  },
  {
   "cell_type": "code",
   "execution_count": null,
   "id": "14f3d823-4bda-4cad-a5a9-41b7064fa742",
   "metadata": {},
   "outputs": [],
   "source": [
    "ms_names = np.array(adata.obsm['milestone_percentages'].columns.values, str)\n",
    "adata.obs['milestones'] = pd.Series(list(ms_names[np.argmax(adata.obsm['milestone_percentages'],axis=1)]), dtype=\"category\").values"
   ]
  },
  {
   "cell_type": "code",
   "execution_count": null,
   "id": "18179a76-0182-4957-8dcf-d96ed34db0dc",
   "metadata": {},
   "outputs": [],
   "source": [
    "n_pcs = 10\n",
    "sc.tl.pca(adata)\n",
    "sc.pp.neighbors(adata, n_neighbors=5, n_pcs=n_pcs)\n",
    "sc.tl.tsne(adata, n_pcs=n_pcs)\n",
    "sc.pl.tsne(adata, color=['milestones'])"
   ]
  },
  {
   "cell_type": "code",
   "execution_count": null,
   "id": "0bd47342-3e8b-4915-a0ac-1e31e905d9b3",
   "metadata": {},
   "outputs": [],
   "source": [
    "A = adata.obsp['distances']\n",
    "G = nx.from_numpy_array(A)\n",
    "ncell = A.shape[0]"
   ]
  },
  {
   "cell_type": "code",
   "execution_count": null,
   "id": "db31d6ba-ed78-4657-a9ca-fbbbfa1de207",
   "metadata": {},
   "outputs": [],
   "source": [
    "p = dict(nx.shortest_path_length(G, weight='weight'))"
   ]
  },
  {
   "cell_type": "code",
   "execution_count": null,
   "id": "af5b2958-b56c-4a7b-abf2-af168f6bc1f8",
   "metadata": {},
   "outputs": [],
   "source": [
    "D = np.array([[p[i][j] for i in range(ncell)] for j in range(ncell)])"
   ]
  },
  {
   "cell_type": "code",
   "execution_count": null,
   "id": "5778249e-2bbd-4f6d-9ae4-01ffc57f92a9",
   "metadata": {},
   "outputs": [],
   "source": [
    "adata.obsp['geodesics'] = D"
   ]
  },
  {
   "cell_type": "code",
   "execution_count": null,
   "id": "64c4141a-56c7-4754-8748-97b7ad67802b",
   "metadata": {},
   "outputs": [],
   "source": [
    "X_pca = adata.obsm['X_pca'][:,:n_pcs]\n",
    "# downsample_index = sgw.downsample_data(X_pca, gs_N=50, random_state=547, method='geosketch')\n",
    "downsample_index = sgw.downsample_data(X_pca[:,:2], random_state=547, method='mapper')\n",
    "print(len(downsample_index))"
   ]
  },
  {
   "cell_type": "code",
   "execution_count": null,
   "id": "1a6a73fd-7dac-4963-84a2-84194f067792",
   "metadata": {},
   "outputs": [],
   "source": [
    "adata_sub = adata[downsample_index]\n",
    "adata_sub_1 = adata_sub[adata_sub.obs['milestones'].isin(['M1','M3']),:]\n",
    "adata_sub_2 = adata_sub[adata_sub.obs['milestones'].isin(['M3','M2','M4']),:]\n",
    "adata_1 = adata[adata.obs['milestones'].isin(['M1','M3']),:]\n",
    "adata_2 = adata[adata.obs['milestones'].isin(['M3','M2','M4']),:]"
   ]
  },
  {
   "cell_type": "code",
   "execution_count": null,
   "id": "1e99c8a9-39c0-41ec-8cfc-f8eab953e918",
   "metadata": {},
   "outputs": [],
   "source": [
    "plt.scatter(adata_sub_1.obsm['X_tsne'][:,0], adata_sub_1.obsm['X_tsne'][:,1], label='Dataset 1', c='tab:blue', s=90)\n",
    "plt.scatter(adata_sub_2.obsm['X_tsne'][:,0], adata_sub_2.obsm['X_tsne'][:,1], label='Dataset 2', c='tab:red', s=40)\n",
    "plt.legend(loc=[1.01,0])\n",
    "plt.axis('off')\n",
    "plt.axis('equal')\n",
    "plt.tight_layout()\n",
    "plt.savefig(\"./figures/scatter_downsample_twodatasets_partialoverlap.pdf\")"
   ]
  },
  {
   "cell_type": "code",
   "execution_count": null,
   "id": "725677e5-36f8-4a0f-9c96-80edfba04a16",
   "metadata": {},
   "outputs": [],
   "source": [
    "D_1 = adata_sub_1.obsp['geodesics']\n",
    "D_2 = adata_sub_2.obsp['geodesics']\n",
    "X_1 = adata_sub_1.obsm['X_tsne']\n",
    "X_2 = adata_sub_2.obsm['X_tsne']"
   ]
  },
  {
   "cell_type": "code",
   "execution_count": null,
   "id": "48954c31-4aa6-4e0f-940f-e704ef66bb89",
   "metadata": {},
   "outputs": [],
   "source": [
    "P = sgw.supervised_gromov_wasserstein(D_1, D_2, nitermax=20, threshold=5)"
   ]
  },
  {
   "cell_type": "code",
   "execution_count": null,
   "id": "e5b74092-2c90-419e-a7cd-170581c054c8",
   "metadata": {},
   "outputs": [],
   "source": [
    "DD1 = adata_1.obsp['geodesics'][:,[np.where(adata_1.obs_names==adata_sub_1.obs_names[i])[0][0] for i in range(adata_sub_1.shape[0])]]\n",
    "DD2 = adata_2.obsp['geodesics'][:,[np.where(adata_2.obs_names==adata_sub_2.obs_names[i])[0][0] for i in range(adata_sub_2.shape[0])]]"
   ]
  },
  {
   "cell_type": "code",
   "execution_count": null,
   "id": "4eee75d9-a905-4e32-b1c4-e65820528815",
   "metadata": {},
   "outputs": [],
   "source": []
  },
  {
   "cell_type": "code",
   "execution_count": null,
   "id": "449b91f5-7888-4fc9-8da8-139e9c539ca8",
   "metadata": {},
   "outputs": [],
   "source": [
    "P_full = sgw.recover_full_coupling(P,DD1,DD2,delta=0.45, thresh=10, eps=0.01, nitermax=10000000)"
   ]
  },
  {
   "cell_type": "code",
   "execution_count": null,
   "id": "d94a36c2-913b-4cb0-99d9-9233f1255b55",
   "metadata": {},
   "outputs": [],
   "source": [
    "plot_mapping(P, X_1, X_2, thresh=0.01/X_2.shape[0])\n",
    "plt.savefig('./figures/coupling_partialoverlap_downsample.pdf')"
   ]
  },
  {
   "cell_type": "code",
   "execution_count": null,
   "id": "5954d7cf-89d0-49e0-97be-3c569a2fdd9b",
   "metadata": {},
   "outputs": [],
   "source": [
    "plot_mapping(P_full.toarray(),adata_1.obsm['X_tsne'], adata_2.obsm['X_tsne'], thresh=0.00000001, linewidth=0.5)\n",
    "plt.savefig('./figures/coupling_partialoverlap_full.pdf')"
   ]
  },
  {
   "cell_type": "code",
   "execution_count": null,
   "id": "d4c1cb05-202f-4105-a8bf-932b87fb6621",
   "metadata": {},
   "outputs": [],
   "source": []
  }
 ],
 "metadata": {
  "kernelspec": {
   "display_name": "Python 3 (ipykernel)",
   "language": "python",
   "name": "python3"
  },
  "language_info": {
   "codemirror_mode": {
    "name": "ipython",
    "version": 3
   },
   "file_extension": ".py",
   "mimetype": "text/x-python",
   "name": "python",
   "nbconvert_exporter": "python",
   "pygments_lexer": "ipython3",
   "version": "3.10.9"
  }
 },
 "nbformat": 4,
 "nbformat_minor": 5
}
